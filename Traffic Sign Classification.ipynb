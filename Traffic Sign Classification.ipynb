{
 "cells": [
  {
   "cell_type": "markdown",
   "metadata": {},
   "source": [
    "## PROBLEM STATEMENT"
   ]
  },
  {
   "cell_type": "markdown",
   "metadata": {},
   "source": [
    "- In this case study, you have been provided with images of traffic signs and the goal is to train a Deep Network to classify them\n",
    "- The dataset contains 43 different classes of images. \n",
    "- Classes are as listed below: \n",
    "\n",
    "    - ( 0, b'Speed limit (20km/h)') ( 1, b'Speed limit (30km/h)')\n",
    "    - ( 2, b'Speed limit (50km/h)') ( 3, b'Speed limit (60km/h)')\n",
    "    - ( 4, b'Speed limit (70km/h)') ( 5, b'Speed limit (80km/h)')\n",
    "    - ( 6, b'End of speed limit (80km/h)') ( 7, b'Speed limit (100km/h)')\n",
    "    - ( 8, b'Speed limit (120km/h)') ( 9, b'No passing')\n",
    "    - (10, b'No passing for vehicles over 3.5 metric tons')\n",
    "    - (11, b'Right-of-way at the next intersection') (12, b'Priority road')\n",
    "    - (13, b'Yield') (14, b'Stop') (15, b'No vehicles')\n",
    "    - (16, b'Vehicles over 3.5 metric tons prohibited') (17, b'No entry')\n",
    "    - (18, b'General caution') (19, b'Dangerous curve to the left')\n",
    "    - (20, b'Dangerous curve to the right') (21, b'Double curve')\n",
    "    - (22, b'Bumpy road') (23, b'Slippery road')\n",
    "    - (24, b'Road narrows on the right') (25, b'Road work')\n",
    "    - (26, b'Traffic signals') (27, b'Pedestrians') (28, b'Children crossing')\n",
    "    - (29, b'Bicycles crossing') (30, b'Beware of ice/snow')\n",
    "    - (31, b'Wild animals crossing')\n",
    "    - (32, b'End of all speed and passing limits') (33, b'Turn right ahead')\n",
    "    - (34, b'Turn left ahead') (35, b'Ahead only') (36, b'Go straight or right')\n",
    "    - (37, b'Go straight or left') (38, b'Keep right') (39, b'Keep left')\n",
    "    - (40, b'Roundabout mandatory') (41, b'End of no passing')\n",
    "    - (42, b'End of no passing by vehicles over 3.5 metric tons')\n",
    "\n",
    "- The network used is called Le-Net that was presented by Yann LeCun\n",
    "http://yann.lecun.com/exdb/publis/pdf/lecun-01a.pdf\n"
   ]
  },
  {
   "cell_type": "markdown",
   "metadata": {},
   "source": [
    "Citation\n",
    "\n",
    "J. Stallkamp, M. Schlipsing, J. Salmen, and C. Igel. The German Traffic Sign Recognition Benchmark: A multi-class classification competition. In Proceedings of the IEEE International Joint Conference on Neural Networks, pages 1453–1460. 2011. \n",
    "\n",
    "@inproceedings{Stallkamp-IJCNN-2011,\n",
    "    author = {Johannes Stallkamp and Marc Schlipsing and Jan Salmen and Christian Igel},\n",
    "    booktitle = {IEEE International Joint Conference on Neural Networks},\n",
    "    title = {The {G}erman {T}raffic {S}ign {R}ecognition {B}enchmark: A multi-class classification competition},\n",
    "    year = {2011},\n",
    "    pages = {1453--1460}\n",
    "}\n",
    "\n"
   ]
  },
  {
   "cell_type": "markdown",
   "metadata": {},
   "source": [
    "# IMPORTING LIBRARIES AND DATASET"
   ]
  },
  {
   "cell_type": "code",
   "execution_count": 1,
   "metadata": {},
   "outputs": [],
   "source": [
    "import warnings\n",
    "warnings.filterwarnings(\"ignore\")"
   ]
  },
  {
   "cell_type": "code",
   "execution_count": 2,
   "metadata": {},
   "outputs": [],
   "source": [
    "# import libraries \n",
    "import pickle\n",
    "import seaborn as sns\n",
    "import pandas as pd # Import Pandas for data manipulation using dataframes\n",
    "import numpy as np # Import Numpy for data statistical analysis \n",
    "import matplotlib.pyplot as plt # Import matplotlib for data visualisation\n",
    "import random"
   ]
  },
  {
   "cell_type": "code",
   "execution_count": 3,
   "metadata": {},
   "outputs": [],
   "source": [
    "# The pickle module implements binary protocols for serializing and de-serializing a Python object structure.\n",
    "with open(\"train.p\", mode='rb') as training_data:\n",
    "    train = pickle.load(training_data)\n",
    "with open(\"valid.p\", mode='rb') as validation_data:\n",
    "    valid = pickle.load(validation_data)\n",
    "with open(\"test.p\", mode='rb') as testing_data:\n",
    "    test = pickle.load(testing_data)"
   ]
  },
  {
   "cell_type": "code",
   "execution_count": 4,
   "metadata": {},
   "outputs": [],
   "source": [
    "X_train, y_train = train['features'], train['labels']\n",
    "X_validation, y_validation = valid['features'], valid['labels']\n",
    "X_test, y_test = test['features'], test['labels']\n"
   ]
  },
  {
   "cell_type": "code",
   "execution_count": 5,
   "metadata": {},
   "outputs": [
    {
     "data": {
      "text/plain": [
       "(34799, 32, 32, 3)"
      ]
     },
     "execution_count": 5,
     "metadata": {},
     "output_type": "execute_result"
    }
   ],
   "source": [
    "X_train.shape"
   ]
  },
  {
   "cell_type": "code",
   "execution_count": 6,
   "metadata": {},
   "outputs": [
    {
     "data": {
      "text/plain": [
       "(34799,)"
      ]
     },
     "execution_count": 6,
     "metadata": {},
     "output_type": "execute_result"
    }
   ],
   "source": [
    "y_train.shape"
   ]
  },
  {
   "cell_type": "markdown",
   "metadata": {},
   "source": [
    "# IMAGE EXPLORATION"
   ]
  },
  {
   "cell_type": "code",
   "execution_count": 7,
   "metadata": {},
   "outputs": [
    {
     "data": {
      "text/plain": [
       "36"
      ]
     },
     "execution_count": 7,
     "metadata": {},
     "output_type": "execute_result"
    },
    {
     "data": {
      "image/png": "[encoded data removed]",
      "text/plain": [
       "<Figure size 432x288 with 1 Axes>"
      ]
     },
     "metadata": {
      "needs_background": "light"
     },
     "output_type": "display_data"
    }
   ],
   "source": [
    "i = 1001\n",
    "plt.imshow(X_train[i]) # Show images are not shuffled\n",
    "y_train[i]"
   ]
  },
  {
   "cell_type": "markdown",
   "metadata": {},
   "source": [
    "# DATA PEPARATION"
   ]
  },
  {
   "cell_type": "code",
   "execution_count": 8,
   "metadata": {},
   "outputs": [],
   "source": [
    "## Shuffle the dataset \n",
    "from sklearn.utils import shuffle\n",
    "X_train, y_train = shuffle(X_train, y_train)\n"
   ]
  },
  {
   "cell_type": "code",
   "execution_count": 9,
   "metadata": {},
   "outputs": [],
   "source": [
    "X_train_gray = np.sum(X_train/3, axis=3, keepdims=True)\n",
    "X_test_gray  = np.sum(X_test/3, axis=3, keepdims=True)\n",
    "X_validation_gray  = np.sum(X_validation/3, axis=3, keepdims=True) "
   ]
  },
  {
   "cell_type": "code",
   "execution_count": 10,
   "metadata": {},
   "outputs": [],
   "source": [
    "X_train_gray_norm = (X_train_gray - 128)/128 \n",
    "X_test_gray_norm = (X_test_gray - 128)/128\n",
    "X_validation_gray_norm = (X_validation_gray - 128)/128\n"
   ]
  },
  {
   "cell_type": "code",
   "execution_count": 11,
   "metadata": {},
   "outputs": [
    {
     "data": {
      "text/plain": [
       "(34799, 32, 32, 1)"
      ]
     },
     "execution_count": 11,
     "metadata": {},
     "output_type": "execute_result"
    }
   ],
   "source": [
    "X_train_gray.shape"
   ]
  },
  {
   "cell_type": "code",
   "execution_count": 12,
   "metadata": {},
   "outputs": [
    {
     "data": {
      "text/plain": [
       "<matplotlib.image.AxesImage at 0x22600a3c7c0>"
      ]
     },
     "execution_count": 12,
     "metadata": {},
     "output_type": "execute_result"
    },
    {
     "data": {
      "image/png": "[encoded data removed]",
      "text/plain": [
       "<Figure size 432x288 with 1 Axes>"
      ]
     },
     "metadata": {
      "needs_background": "light"
     },
     "output_type": "display_data"
    },
    {
     "data": {
      "image/png": "[encoded data removed]",
      "text/plain": [
       "<Figure size 432x288 with 1 Axes>"
      ]
     },
     "metadata": {
      "needs_background": "light"
     },
     "output_type": "display_data"
    }
   ],
   "source": [
    "i = 610\n",
    "plt.imshow(X_train_gray[i].squeeze(), cmap='gray')\n",
    "plt.figure()\n",
    "plt.imshow(X_train[i])\n"
   ]
  },
  {
   "cell_type": "markdown",
   "metadata": {},
   "source": [
    "# MODEL TRAINING"
   ]
  },
  {
   "cell_type": "markdown",
   "metadata": {},
   "source": [
    "The model consists of the following layers: \n",
    "\n",
    "- STEP 1: THE FIRST CONVOLUTIONAL LAYER #1\n",
    "    - Input = 32x32x1\n",
    "    - Output = 28x28x6\n",
    "    - Output = (Input-filter+1)/Stride* => (32-5+1)/1=28\n",
    "    - Used a 5x5 Filter with input depth of 3 and output depth of 6\n",
    "    - Apply a RELU Activation function to the output\n",
    "    - pooling for input, Input = 28x28x6 and Output = 14x14x6\n",
    "\n",
    "\n",
    "    * Stride is the amount by which the kernel is shifted when the kernel is passed over the image.\n",
    "\n",
    "- STEP 2: THE SECOND CONVOLUTIONAL LAYER #2\n",
    "    - Input = 14x14x6\n",
    "    - Output = 10x10x16\n",
    "    - Layer 2: Convolutional layer with Output = 10x10x16\n",
    "    - Output = (Input-filter+1)/strides => 10 = 14-5+1/1\n",
    "    - Apply a RELU Activation function to the output\n",
    "    - Pooling with Input = 10x10x16 and Output = 5x5x16\n",
    "\n",
    "- STEP 3: FLATTENING THE NETWORK\n",
    "    - Flatten the network with Input = 5x5x16 and Output = 400\n",
    "\n",
    "- STEP 4: FULLY CONNECTED LAYER\n",
    "    - Layer 3: Fully Connected layer with Input = 400 and Output = 120\n",
    "    - Apply a RELU Activation function to the output\n",
    "\n",
    "- STEP 5: ANOTHER FULLY CONNECTED LAYER\n",
    "    - Layer 4: Fully Connected Layer with Input = 120 and Output = 84\n",
    "    - Apply a RELU Activation function to the output\n",
    "\n",
    "- STEP 6: FULLY CONNECTED LAYER\n",
    "    - Layer 5: Fully Connected layer with Input = 84 and Output = 43"
   ]
  },
  {
   "cell_type": "code",
   "execution_count": 13,
   "metadata": {},
   "outputs": [],
   "source": [
    "# Import train_test_split from scikit library\n",
    "\n",
    "from keras.models import Sequential\n",
    "from keras.layers import Conv2D, MaxPooling2D, AveragePooling2D, Dense, Flatten, Dropout\n",
    "from keras.optimizers import Adam\n",
    "from keras.callbacks import TensorBoard\n",
    "\n",
    "from sklearn.model_selection import train_test_split\n"
   ]
  },
  {
   "cell_type": "code",
   "execution_count": 14,
   "metadata": {},
   "outputs": [],
   "source": [
    "image_shape = X_train_gray[i].shape"
   ]
  },
  {
   "cell_type": "code",
   "execution_count": 15,
   "metadata": {},
   "outputs": [],
   "source": [
    "cnn_model = Sequential()\n",
    "\n",
    "cnn_model.add(Conv2D(filters=6, kernel_size=(5, 5), activation='relu', input_shape=(32,32,1)))\n",
    "cnn_model.add(AveragePooling2D())\n",
    "\n",
    "cnn_model.add(Conv2D(filters=16, kernel_size=(5, 5), activation='relu'))\n",
    "cnn_model.add(AveragePooling2D())\n",
    "\n",
    "cnn_model.add(Flatten())\n",
    "\n",
    "cnn_model.add(Dense(units=120, activation='relu'))\n",
    "\n",
    "cnn_model.add(Dense(units=84, activation='relu'))\n",
    "\n",
    "cnn_model.add(Dense(units=43, activation = 'softmax'))\n"
   ]
  },
  {
   "cell_type": "code",
   "execution_count": 16,
   "metadata": {},
   "outputs": [],
   "source": [
    "cnn_model.compile(loss ='sparse_categorical_crossentropy', optimizer=Adam(lr=0.001),metrics =['accuracy'])"
   ]
  },
  {
   "cell_type": "code",
   "execution_count": 18,
   "metadata": {},
   "outputs": [
    {
     "name": "stdout",
     "output_type": "stream",
     "text": [
      "Epoch 1/50\n",
      "70/70 [==============================] - 12s 161ms/step - loss: 3.1080 - accuracy: 0.1956 - val_loss: 2.5604 - val_accuracy: 0.3621\n",
      "Epoch 2/50\n",
      "70/70 [==============================] - 10s 139ms/step - loss: 1.4834 - accuracy: 0.5909 - val_loss: 1.2744 - val_accuracy: 0.6084\n",
      "Epoch 3/50\n",
      "70/70 [==============================] - 9s 130ms/step - loss: 0.8241 - accuracy: 0.7696 - val_loss: 0.9296 - val_accuracy: 0.7181\n",
      "Epoch 4/50\n",
      "70/70 [==============================] - 9s 131ms/step - loss: 0.5992 - accuracy: 0.8343 - val_loss: 0.7613 - val_accuracy: 0.7723\n",
      "Epoch 5/50\n",
      "70/70 [==============================] - 9s 127ms/step - loss: 0.4700 - accuracy: 0.8734 - val_loss: 0.7293 - val_accuracy: 0.7912\n",
      "Epoch 6/50\n",
      "70/70 [==============================] - 9s 134ms/step - loss: 0.3899 - accuracy: 0.8984 - val_loss: 0.6573 - val_accuracy: 0.8215\n",
      "Epoch 7/50\n",
      "70/70 [==============================] - 9s 133ms/step - loss: 0.3379 - accuracy: 0.9113 - val_loss: 0.6283 - val_accuracy: 0.8283\n",
      "Epoch 8/50\n",
      "70/70 [==============================] - 10s 136ms/step - loss: 0.2901 - accuracy: 0.9253 - val_loss: 0.6605 - val_accuracy: 0.8256\n",
      "Epoch 9/50\n",
      "70/70 [==============================] - 9s 134ms/step - loss: 0.2565 - accuracy: 0.9342 - val_loss: 0.6458 - val_accuracy: 0.8331\n",
      "Epoch 10/50\n",
      "70/70 [==============================] - 9s 128ms/step - loss: 0.2318 - accuracy: 0.9407 - val_loss: 0.6234 - val_accuracy: 0.8367\n",
      "Epoch 11/50\n",
      "70/70 [==============================] - 9s 130ms/step - loss: 0.2073 - accuracy: 0.9482 - val_loss: 0.5879 - val_accuracy: 0.8594\n",
      "Epoch 12/50\n",
      "70/70 [==============================] - 10s 138ms/step - loss: 0.1881 - accuracy: 0.9530 - val_loss: 0.5708 - val_accuracy: 0.8522\n",
      "Epoch 13/50\n",
      "70/70 [==============================] - 10s 139ms/step - loss: 0.1703 - accuracy: 0.9574 - val_loss: 0.6067 - val_accuracy: 0.8478\n",
      "Epoch 14/50\n",
      "70/70 [==============================] - 9s 131ms/step - loss: 0.1545 - accuracy: 0.9619 - val_loss: 0.6524 - val_accuracy: 0.8444\n",
      "Epoch 15/50\n",
      "70/70 [==============================] - 9s 132ms/step - loss: 0.1397 - accuracy: 0.9657 - val_loss: 0.6205 - val_accuracy: 0.8519\n",
      "Epoch 16/50\n",
      "70/70 [==============================] - 11s 161ms/step - loss: 0.1276 - accuracy: 0.9689 - val_loss: 0.6096 - val_accuracy: 0.8596\n",
      "Epoch 17/50\n",
      "70/70 [==============================] - 10s 143ms/step - loss: 0.1190 - accuracy: 0.9718 - val_loss: 0.5953 - val_accuracy: 0.8626\n",
      "Epoch 18/50\n",
      "70/70 [==============================] - 12s 166ms/step - loss: 0.1091 - accuracy: 0.9733 - val_loss: 0.5928 - val_accuracy: 0.8673\n",
      "Epoch 19/50\n",
      "70/70 [==============================] - 10s 142ms/step - loss: 0.1040 - accuracy: 0.9739 - val_loss: 0.6144 - val_accuracy: 0.8671\n",
      "Epoch 20/50\n",
      "70/70 [==============================] - 9s 129ms/step - loss: 0.0887 - accuracy: 0.9791 - val_loss: 0.6473 - val_accuracy: 0.8644\n",
      "Epoch 21/50\n",
      "70/70 [==============================] - 10s 138ms/step - loss: 0.0855 - accuracy: 0.9799 - val_loss: 0.6834 - val_accuracy: 0.8585\n",
      "Epoch 22/50\n",
      "70/70 [==============================] - 9s 133ms/step - loss: 0.0784 - accuracy: 0.9814 - val_loss: 0.6348 - val_accuracy: 0.8644\n",
      "Epoch 23/50\n",
      "70/70 [==============================] - 10s 143ms/step - loss: 0.0718 - accuracy: 0.9825 - val_loss: 0.5851 - val_accuracy: 0.8746\n",
      "Epoch 24/50\n",
      "70/70 [==============================] - 11s 161ms/step - loss: 0.0672 - accuracy: 0.9845 - val_loss: 0.6483 - val_accuracy: 0.8717\n",
      "Epoch 25/50\n",
      "70/70 [==============================] - 11s 164ms/step - loss: 0.0620 - accuracy: 0.9855 - val_loss: 0.6830 - val_accuracy: 0.8621\n",
      "Epoch 26/50\n",
      "70/70 [==============================] - 11s 161ms/step - loss: 0.0573 - accuracy: 0.9862 - val_loss: 0.6667 - val_accuracy: 0.8703\n",
      "Epoch 27/50\n",
      "70/70 [==============================] - 11s 151ms/step - loss: 0.0534 - accuracy: 0.9880 - val_loss: 0.7160 - val_accuracy: 0.8526\n",
      "Epoch 28/50\n",
      "70/70 [==============================] - 10s 140ms/step - loss: 0.0526 - accuracy: 0.9878 - val_loss: 0.6753 - val_accuracy: 0.8714\n",
      "Epoch 29/50\n",
      "70/70 [==============================] - 10s 138ms/step - loss: 0.0471 - accuracy: 0.9897 - val_loss: 0.7064 - val_accuracy: 0.8621\n",
      "Epoch 30/50\n",
      "70/70 [==============================] - 10s 140ms/step - loss: 0.0416 - accuracy: 0.9907 - val_loss: 0.6956 - val_accuracy: 0.8710\n",
      "Epoch 31/50\n",
      "70/70 [==============================] - 9s 134ms/step - loss: 0.0421 - accuracy: 0.9901 - val_loss: 0.6986 - val_accuracy: 0.8764\n",
      "Epoch 32/50\n",
      "70/70 [==============================] - 10s 142ms/step - loss: 0.0411 - accuracy: 0.9901 - val_loss: 0.6590 - val_accuracy: 0.8723\n",
      "Epoch 33/50\n",
      "70/70 [==============================] - 10s 141ms/step - loss: 0.0384 - accuracy: 0.9914 - val_loss: 0.6643 - val_accuracy: 0.8717\n",
      "Epoch 34/50\n",
      "70/70 [==============================] - 10s 150ms/step - loss: 0.0341 - accuracy: 0.9923 - val_loss: 0.7844 - val_accuracy: 0.8703\n",
      "Epoch 35/50\n",
      "70/70 [==============================] - 10s 143ms/step - loss: 0.0301 - accuracy: 0.9933 - val_loss: 0.7161 - val_accuracy: 0.8773\n",
      "Epoch 36/50\n",
      "70/70 [==============================] - 9s 136ms/step - loss: 0.0326 - accuracy: 0.9921 - val_loss: 0.7974 - val_accuracy: 0.8664\n",
      "Epoch 37/50\n",
      "70/70 [==============================] - 10s 138ms/step - loss: 0.0313 - accuracy: 0.9924 - val_loss: 0.8326 - val_accuracy: 0.8787\n",
      "Epoch 38/50\n",
      "70/70 [==============================] - 10s 137ms/step - loss: 0.0352 - accuracy: 0.9909 - val_loss: 0.6819 - val_accuracy: 0.8737\n",
      "Epoch 39/50\n",
      "70/70 [==============================] - 10s 140ms/step - loss: 0.0262 - accuracy: 0.9939 - val_loss: 0.7454 - val_accuracy: 0.8782\n",
      "Epoch 40/50\n",
      "70/70 [==============================] - 10s 142ms/step - loss: 0.0222 - accuracy: 0.9953 - val_loss: 0.6850 - val_accuracy: 0.8789\n",
      "Epoch 41/50\n",
      "70/70 [==============================] - 9s 135ms/step - loss: 0.0199 - accuracy: 0.9958 - val_loss: 0.7191 - val_accuracy: 0.8841\n",
      "Epoch 42/50\n",
      "70/70 [==============================] - 10s 142ms/step - loss: 0.0212 - accuracy: 0.9956 - val_loss: 0.8196 - val_accuracy: 0.8803\n",
      "Epoch 43/50\n",
      "70/70 [==============================] - 10s 149ms/step - loss: 0.0252 - accuracy: 0.9935 - val_loss: 0.6789 - val_accuracy: 0.8875\n",
      "Epoch 44/50\n",
      "70/70 [==============================] - 9s 134ms/step - loss: 0.0189 - accuracy: 0.9956 - val_loss: 0.7633 - val_accuracy: 0.8796\n",
      "Epoch 45/50\n",
      "70/70 [==============================] - 10s 139ms/step - loss: 0.0180 - accuracy: 0.9960 - val_loss: 0.8162 - val_accuracy: 0.8719\n",
      "Epoch 46/50\n",
      "70/70 [==============================] - 10s 137ms/step - loss: 0.0137 - accuracy: 0.9976 - val_loss: 0.7619 - val_accuracy: 0.8834\n",
      "Epoch 47/50\n",
      "70/70 [==============================] - 10s 137ms/step - loss: 0.0137 - accuracy: 0.9976 - val_loss: 0.7144 - val_accuracy: 0.8862\n",
      "Epoch 48/50\n",
      "70/70 [==============================] - 10s 138ms/step - loss: 0.0148 - accuracy: 0.9967 - val_loss: 0.8085 - val_accuracy: 0.8703\n",
      "Epoch 49/50\n",
      "70/70 [==============================] - 9s 133ms/step - loss: 0.0174 - accuracy: 0.9958 - val_loss: 0.7349 - val_accuracy: 0.8846\n",
      "Epoch 50/50\n",
      "70/70 [==============================] - 10s 145ms/step - loss: 0.0148 - accuracy: 0.9966 - val_loss: 0.7681 - val_accuracy: 0.8787\n"
     ]
    }
   ],
   "source": [
    "history = cnn_model.fit(X_train_gray_norm,\n",
    "                        y_train,\n",
    "                        batch_size=500,\n",
    "                        epochs=50,\n",
    "                        verbose=1,\n",
    "                        validation_data = (X_validation_gray_norm,y_validation))"
   ]
  },
  {
   "cell_type": "markdown",
   "metadata": {},
   "source": [
    "# MODEL EVALUATION"
   ]
  },
  {
   "cell_type": "code",
   "execution_count": 19,
   "metadata": {},
   "outputs": [
    {
     "name": "stdout",
     "output_type": "stream",
     "text": [
      "Test Accuracy : 0.8778\n"
     ]
    }
   ],
   "source": [
    "score = cnn_model.evaluate(X_test_gray_norm, y_test,verbose=0)\n",
    "print('Test Accuracy : {:.4f}'.format(score[1]))"
   ]
  },
  {
   "cell_type": "code",
   "execution_count": 20,
   "metadata": {},
   "outputs": [
    {
     "data": {
      "text/plain": [
       "dict_keys(['loss', 'accuracy', 'val_loss', 'val_accuracy'])"
      ]
     },
     "execution_count": 20,
     "metadata": {},
     "output_type": "execute_result"
    }
   ],
   "source": [
    "history.history.keys()"
   ]
  },
  {
   "cell_type": "code",
   "execution_count": 21,
   "metadata": {},
   "outputs": [
    {
     "ename": "KeyError",
     "evalue": "'acc'",
     "output_type": "error",
     "traceback": [
      "\u001b[1;31m---------------------------------------------------------------------------\u001b[0m",
      "\u001b[1;31mKeyError\u001b[0m                                  Traceback (most recent call last)",
      "\u001b[1;32m~\\AppData\\Local\\Temp/ipykernel_26572/3074887552.py\u001b[0m in \u001b[0;36m<module>\u001b[1;34m\u001b[0m\n\u001b[1;32m----> 1\u001b[1;33m \u001b[0maccuracy\u001b[0m \u001b[1;33m=\u001b[0m \u001b[0mhistory\u001b[0m\u001b[1;33m.\u001b[0m\u001b[0mhistory\u001b[0m\u001b[1;33m[\u001b[0m\u001b[1;34m'acc'\u001b[0m\u001b[1;33m]\u001b[0m\u001b[1;33m\u001b[0m\u001b[1;33m\u001b[0m\u001b[0m\n\u001b[0m\u001b[0;32m      2\u001b[0m \u001b[0mval_accuracy\u001b[0m \u001b[1;33m=\u001b[0m \u001b[0mhistory\u001b[0m\u001b[1;33m.\u001b[0m\u001b[0mhistory\u001b[0m\u001b[1;33m[\u001b[0m\u001b[1;34m'val_acc'\u001b[0m\u001b[1;33m]\u001b[0m\u001b[1;33m\u001b[0m\u001b[1;33m\u001b[0m\u001b[0m\n\u001b[0;32m      3\u001b[0m \u001b[0mloss\u001b[0m \u001b[1;33m=\u001b[0m \u001b[0mhistory\u001b[0m\u001b[1;33m.\u001b[0m\u001b[0mhistory\u001b[0m\u001b[1;33m[\u001b[0m\u001b[1;34m'loss'\u001b[0m\u001b[1;33m]\u001b[0m\u001b[1;33m\u001b[0m\u001b[1;33m\u001b[0m\u001b[0m\n\u001b[0;32m      4\u001b[0m \u001b[0mval_loss\u001b[0m \u001b[1;33m=\u001b[0m \u001b[0mhistory\u001b[0m\u001b[1;33m.\u001b[0m\u001b[0mhistory\u001b[0m\u001b[1;33m[\u001b[0m\u001b[1;34m'val_loss'\u001b[0m\u001b[1;33m]\u001b[0m\u001b[1;33m\u001b[0m\u001b[1;33m\u001b[0m\u001b[0m\n\u001b[0;32m      5\u001b[0m \u001b[1;33m\u001b[0m\u001b[0m\n",
      "\u001b[1;31mKeyError\u001b[0m: 'acc'"
     ]
    }
   ],
   "source": [
    "accuracy = history.history['acc']\n",
    "val_accuracy = history.history['val_acc']\n",
    "loss = history.history['loss']\n",
    "val_loss = history.history['val_loss']\n",
    "\n",
    "epochs = range(len(accuracy))\n",
    "\n",
    "plt.plot(epochs, accuracy, 'bo', label='Training Accuracy')\n",
    "plt.plot(epochs, val_accuracy, 'b', label='Validation Accuracy')\n",
    "plt.title('Training and Validation accuracy')\n",
    "plt.legend()\n"
   ]
  },
  {
   "cell_type": "code",
   "execution_count": null,
   "metadata": {},
   "outputs": [],
   "source": [
    "plt.plot(epochs, loss, 'ro', label='Training Loss')\n",
    "plt.plot(epochs, val_loss, 'r', label='Validation Loss')\n",
    "plt.title('Training and validation loss')\n",
    "plt.legend()\n",
    "plt.show()"
   ]
  },
  {
   "cell_type": "code",
   "execution_count": null,
   "metadata": {},
   "outputs": [],
   "source": [
    "#get the predictions for the test data\n",
    "predicted_classes = cnn_model.predict_classes(X_test_gray_norm)\n",
    "#get the indices to be plotted\n",
    "y_true = y_test\n"
   ]
  },
  {
   "cell_type": "code",
   "execution_count": null,
   "metadata": {},
   "outputs": [],
   "source": [
    "from sklearn.metrics import confusion_matrix\n",
    "cm = confusion_matrix(y_true, predicted_classes)\n",
    "plt.figure(figsize = (25,25))\n",
    "sns.heatmap(cm, annot=True)"
   ]
  },
  {
   "cell_type": "code",
   "execution_count": null,
   "metadata": {
    "scrolled": true
   },
   "outputs": [],
   "source": [
    "L = 7\n",
    "W = 7\n",
    "fig, axes = plt.subplots(L, W, figsize = (12,12))\n",
    "axes = axes.ravel() # \n",
    "\n",
    "for i in np.arange(0, L * W):  \n",
    "    axes[i].imshow(X_test[i])\n",
    "    axes[i].set_title(\"Prediction={}\\n True={}\".format(predicted_classes[i], y_true[i]))\n",
    "    axes[i].axis('off')\n",
    "\n",
    "plt.subplots_adjust(wspace=1)"
   ]
  }
 ],
 "metadata": {
  "kernelspec": {
   "display_name": "Python 3 (ipykernel)",
   "language": "python",
   "name": "python3"
  },
  "language_info": {
   "codemirror_mode": {
    "name": "ipython",
    "version": 3
   },
   "file_extension": ".py",
   "mimetype": "text/x-python",
   "name": "python",
   "nbconvert_exporter": "python",
   "pygments_lexer": "ipython3",
   "version": "3.9.7"
  },
  "widgets": {
   "state": {},
   "version": "1.1.2"
  }
 },
 "nbformat": 4,
 "nbformat_minor": 2
}
